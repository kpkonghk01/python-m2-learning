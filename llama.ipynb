{
 "cells": [
  {
   "cell_type": "code",
   "execution_count": 1,
   "metadata": {},
   "outputs": [
    {
     "data": {
      "application/vnd.jupyter.widget-view+json": {
       "model_id": "627e2277158f4930b0630ac1175fa888",
       "version_major": 2,
       "version_minor": 0
      },
      "text/plain": [
       "Loading checkpoint shards:   0%|          | 0/2 [00:00<?, ?it/s]"
      ]
     },
     "metadata": {},
     "output_type": "display_data"
    }
   ],
   "source": [
    "# https://huggingface.co/blog/llama2\n",
    "from transformers import AutoTokenizer\n",
    "import transformers\n",
    "import torch\n",
    "\n",
    "# model = \"meta-llama/Llama-2-7b-chat-hf\"\n",
    "# 13B is too large, ate all my ram, used 2xGb Swap\n",
    "model = \"yentinglin/Taiwan-LLM-7B-v2.0.1-chat\" # Taiwan version of llama-2\n",
    "\n",
    "tokenizer = AutoTokenizer.from_pretrained(model)\n",
    "pipeline = transformers.pipeline(\n",
    "    \"text-generation\",\n",
    "    model=model,\n",
    "    torch_dtype=torch.float16,\n",
    "    device_map=\"auto\",\n",
    ")\n",
    "\n"
   ]
  },
  {
   "cell_type": "code",
   "execution_count": 2,
   "metadata": {},
   "outputs": [
    {
     "name": "stdout",
     "output_type": "stream",
     "text": [
      "Result: 請幫我用 ffmpeg cli 把兩段 mp4 影片組合成一段影片，並說明 params 的作用\n",
      "\n",
      "ASSISTANT: 以下是使用 ffmpeg 將兩段 mp4 影片組合成一段影片的方法：\n",
      "\n",
      "```bash\n",
      "ffmpeg -i input1.mp4 -i input2.mp4 -c copy -shortest output.mp4\n",
      "```\n",
      "\n",
      "在這個命令中，`input1.mp4` 和 `input2.mp4` 是兩段 mp4 影片的路徑，`output.mp4` 是組合後的影片的路徑，`-c copy` 將使用原始\n"
     ]
    }
   ],
   "source": [
    "sequences = pipeline(\n",
    "    '請幫我用 ffmpeg cli 把兩段 mp4 影片組合成一段影片，並說明 params 的作用\\n',\n",
    "    do_sample=True,\n",
    "    top_k=10,\n",
    "    num_return_sequences=1,\n",
    "    eos_token_id=tokenizer.eos_token_id,\n",
    "    max_length=200,\n",
    ")\n",
    "for seq in sequences:\n",
    "    print(f\"Result: {seq['generated_text']}\")"
   ]
  }
 ],
 "metadata": {
  "kernelspec": {
   "display_name": "Python 3",
   "language": "python",
   "name": "python3"
  },
  "language_info": {
   "codemirror_mode": {
    "name": "ipython",
    "version": 3
   },
   "file_extension": ".py",
   "mimetype": "text/x-python",
   "name": "python",
   "nbconvert_exporter": "python",
   "pygments_lexer": "ipython3",
   "version": "3.11.6"
  }
 },
 "nbformat": 4,
 "nbformat_minor": 2
}
